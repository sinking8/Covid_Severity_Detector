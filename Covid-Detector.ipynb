{
 "cells": [
  {
   "cell_type": "code",
   "execution_count": 2,
   "metadata": {},
   "outputs": [],
   "source": [
    "import os\n",
    "import pandas as pd"
   ]
  },
  {
   "cell_type": "code",
   "execution_count": 3,
   "metadata": {},
   "outputs": [
    {
     "name": "stdout",
     "output_type": "stream",
     "text": [
      "/Users/a.balasubramanian/Desktop/Ashwin/Covid-Detector\n"
     ]
    }
   ],
   "source": [
    "#Current working directory\n",
    "CURR_DIR = os.getcwd()\n",
    "#print(CURR_DIR)"
   ]
  },
  {
   "cell_type": "code",
   "execution_count": 4,
   "metadata": {},
   "outputs": [],
   "source": [
    "data_dir = \"data.csv\"\n",
    "\n",
    "# Reading data set\n",
    "data_df  = pd.read_csv(os.path.join(CURR_DIR,data_dir))"
   ]
  },
  {
   "cell_type": "code",
   "execution_count": 6,
   "metadata": {},
   "outputs": [
    {
     "data": {
      "text/plain": [
       "pandas.core.frame.DataFrame"
      ]
     },
     "execution_count": 6,
     "metadata": {},
     "output_type": "execute_result"
    }
   ],
   "source": [
    "type(data_df)"
   ]
  },
  {
   "cell_type": "code",
   "execution_count": 8,
   "metadata": {},
   "outputs": [
    {
     "name": "stdout",
     "output_type": "stream",
     "text": [
      "Index(['Fever', 'Tiredness', 'Dry-Cough', 'Difficulty-in-Breathing',\n",
      "       'Sore-Throat', 'None_Sympton', 'Pains', 'Nasal-Congestion',\n",
      "       'Runny-Nose', 'Diarrhea', 'None_Experiencing', 'Age_0-9', 'Age_10-19',\n",
      "       'Age_20-24', 'Age_25-59', 'Age_60+', 'Gender_Female', 'Gender_Male',\n",
      "       'Gender_Transgender', 'Severity_Mild', 'Severity_Moderate',\n",
      "       'Severity_None', 'Severity_Severe', 'Contact_Dont-Know', 'Contact_No',\n",
      "       'Contact_Yes', 'Country'],\n",
      "      dtype='object')\n"
     ]
    }
   ],
   "source": [
    "print(data_df.columns)"
   ]
  },
  {
   "cell_type": "code",
   "execution_count": 19,
   "metadata": {},
   "outputs": [],
   "source": [
    "# Labels\n",
    "labels = [\n",
    "    'Severity_None',\n",
    "    'Severity_Mild',\n",
    "    'Severity_Moderate',\n",
    "    'Severity_Severe'\n",
    "]\n",
    "\n",
    "# Labels Dict\n",
    "labels_dict = {\n",
    "    'Severity_None':0,\n",
    "    'Severity_Mild':1,\n",
    "    'Severity_Moderate':2,\n",
    "    'Severity_Severe':3\n",
    "}"
   ]
  },
  {
   "cell_type": "code",
   "execution_count": 33,
   "metadata": {},
   "outputs": [],
   "source": [
    "# Mapping Dict values with Column Values\n",
    "\n",
    "cols_map = []\n",
    "\n",
    "for label in labels:\n",
    "    cols_map.append(list(map(lambda x : labels_dict[label] if x == 1 else 0,data_df[label])))\n",
    "\n",
    "\n",
    "# Combining df_cols \n",
    "Y = [sum(i) for i in zip(cols_map[0],cols_map[1],cols_map[2],cols_map[3])]\n",
    "# print(Y[:2])"
   ]
  },
  {
   "cell_type": "code",
   "execution_count": 34,
   "metadata": {},
   "outputs": [
    {
     "name": "stdout",
     "output_type": "stream",
     "text": [
      "Index(['Fever', 'Tiredness', 'Dry-Cough', 'Difficulty-in-Breathing',\n",
      "       'Sore-Throat', 'None_Sympton', 'Pains', 'Nasal-Congestion',\n",
      "       'Runny-Nose', 'Diarrhea', 'None_Experiencing', 'Age_0-9', 'Age_10-19',\n",
      "       'Age_20-24', 'Age_25-59', 'Age_60+', 'Gender_Female', 'Gender_Male',\n",
      "       'Gender_Transgender', 'Severity_Mild', 'Severity_Moderate',\n",
      "       'Severity_None', 'Severity_Severe', 'Contact_Dont-Know', 'Contact_No',\n",
      "       'Contact_Yes', 'Country'],\n",
      "      dtype='object')\n"
     ]
    }
   ],
   "source": [
    "print(data_df.columns)"
   ]
  },
  {
   "cell_type": "code",
   "execution_count": null,
   "metadata": {},
   "outputs": [],
   "source": [
    "X = data_df.drop(labels)"
   ]
  }
 ],
 "metadata": {
  "kernelspec": {
   "display_name": "Python 3",
   "language": "python",
   "name": "python3"
  },
  "language_info": {
   "codemirror_mode": {
    "name": "ipython",
    "version": 3
   },
   "file_extension": ".py",
   "mimetype": "text/x-python",
   "name": "python",
   "nbconvert_exporter": "python",
   "pygments_lexer": "ipython3",
   "version": "3.8.5"
  }
 },
 "nbformat": 4,
 "nbformat_minor": 4
}
