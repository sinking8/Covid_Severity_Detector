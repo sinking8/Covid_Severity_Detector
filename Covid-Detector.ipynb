{
 "cells": [
  {
   "cell_type": "code",
   "execution_count": 1,
   "metadata": {},
   "outputs": [],
   "source": [
    "import os\n",
    "\n",
    "import pandas as pd\n",
    "import numpy as np"
   ]
  },
  {
   "cell_type": "code",
   "execution_count": 2,
   "metadata": {},
   "outputs": [],
   "source": [
    "#Current working directory\n",
    "CURR_DIR = os.getcwd()\n",
    "#print(CURR_DIR)"
   ]
  },
  {
   "cell_type": "code",
   "execution_count": 3,
   "metadata": {},
   "outputs": [],
   "source": [
    "data_dir = \"data.csv\"\n",
    "\n",
    "# Reading data set\n",
    "data_df  = pd.read_csv(os.path.join(CURR_DIR,data_dir))\n",
    "\n",
    "# Shuffling dataframe\n",
    "data_df = data_df.sample(frac = 1)"
   ]
  },
  {
   "cell_type": "code",
   "execution_count": 4,
   "metadata": {},
   "outputs": [
    {
     "data": {
      "text/html": [
       "<div>\n",
       "<style scoped>\n",
       "    .dataframe tbody tr th:only-of-type {\n",
       "        vertical-align: middle;\n",
       "    }\n",
       "\n",
       "    .dataframe tbody tr th {\n",
       "        vertical-align: top;\n",
       "    }\n",
       "\n",
       "    .dataframe thead th {\n",
       "        text-align: right;\n",
       "    }\n",
       "</style>\n",
       "<table border=\"1\" class=\"dataframe\">\n",
       "  <thead>\n",
       "    <tr style=\"text-align: right;\">\n",
       "      <th></th>\n",
       "      <th>Fever</th>\n",
       "      <th>Tiredness</th>\n",
       "      <th>Dry-Cough</th>\n",
       "      <th>Difficulty-in-Breathing</th>\n",
       "      <th>Sore-Throat</th>\n",
       "      <th>None_Sympton</th>\n",
       "      <th>Pains</th>\n",
       "      <th>Nasal-Congestion</th>\n",
       "      <th>Runny-Nose</th>\n",
       "      <th>Diarrhea</th>\n",
       "      <th>...</th>\n",
       "      <th>Gender_Male</th>\n",
       "      <th>Gender_Transgender</th>\n",
       "      <th>Severity_Mild</th>\n",
       "      <th>Severity_Moderate</th>\n",
       "      <th>Severity_None</th>\n",
       "      <th>Severity_Severe</th>\n",
       "      <th>Contact_Dont-Know</th>\n",
       "      <th>Contact_No</th>\n",
       "      <th>Contact_Yes</th>\n",
       "      <th>Country</th>\n",
       "    </tr>\n",
       "  </thead>\n",
       "  <tbody>\n",
       "    <tr>\n",
       "      <th>136509</th>\n",
       "      <td>0</td>\n",
       "      <td>0</td>\n",
       "      <td>1</td>\n",
       "      <td>1</td>\n",
       "      <td>0</td>\n",
       "      <td>0</td>\n",
       "      <td>1</td>\n",
       "      <td>1</td>\n",
       "      <td>1</td>\n",
       "      <td>0</td>\n",
       "      <td>...</td>\n",
       "      <td>0</td>\n",
       "      <td>0</td>\n",
       "      <td>0</td>\n",
       "      <td>0</td>\n",
       "      <td>1</td>\n",
       "      <td>0</td>\n",
       "      <td>0</td>\n",
       "      <td>0</td>\n",
       "      <td>1</td>\n",
       "      <td>France</td>\n",
       "    </tr>\n",
       "    <tr>\n",
       "      <th>14753</th>\n",
       "      <td>0</td>\n",
       "      <td>0</td>\n",
       "      <td>0</td>\n",
       "      <td>0</td>\n",
       "      <td>0</td>\n",
       "      <td>1</td>\n",
       "      <td>0</td>\n",
       "      <td>0</td>\n",
       "      <td>1</td>\n",
       "      <td>0</td>\n",
       "      <td>...</td>\n",
       "      <td>1</td>\n",
       "      <td>0</td>\n",
       "      <td>0</td>\n",
       "      <td>1</td>\n",
       "      <td>0</td>\n",
       "      <td>0</td>\n",
       "      <td>1</td>\n",
       "      <td>0</td>\n",
       "      <td>0</td>\n",
       "      <td>China</td>\n",
       "    </tr>\n",
       "    <tr>\n",
       "      <th>83874</th>\n",
       "      <td>0</td>\n",
       "      <td>0</td>\n",
       "      <td>1</td>\n",
       "      <td>0</td>\n",
       "      <td>0</td>\n",
       "      <td>0</td>\n",
       "      <td>0</td>\n",
       "      <td>1</td>\n",
       "      <td>1</td>\n",
       "      <td>1</td>\n",
       "      <td>...</td>\n",
       "      <td>1</td>\n",
       "      <td>0</td>\n",
       "      <td>0</td>\n",
       "      <td>0</td>\n",
       "      <td>0</td>\n",
       "      <td>1</td>\n",
       "      <td>0</td>\n",
       "      <td>0</td>\n",
       "      <td>1</td>\n",
       "      <td>Iran</td>\n",
       "    </tr>\n",
       "  </tbody>\n",
       "</table>\n",
       "<p>3 rows × 27 columns</p>\n",
       "</div>"
      ],
      "text/plain": [
       "        Fever  Tiredness  Dry-Cough  Difficulty-in-Breathing  Sore-Throat  \\\n",
       "136509      0          0          1                        1            0   \n",
       "14753       0          0          0                        0            0   \n",
       "83874       0          0          1                        0            0   \n",
       "\n",
       "        None_Sympton  Pains  Nasal-Congestion  Runny-Nose  Diarrhea  ...  \\\n",
       "136509             0      1                 1           1         0  ...   \n",
       "14753              1      0                 0           1         0  ...   \n",
       "83874              0      0                 1           1         1  ...   \n",
       "\n",
       "        Gender_Male  Gender_Transgender  Severity_Mild  Severity_Moderate  \\\n",
       "136509            0                   0              0                  0   \n",
       "14753             1                   0              0                  1   \n",
       "83874             1                   0              0                  0   \n",
       "\n",
       "        Severity_None  Severity_Severe  Contact_Dont-Know  Contact_No  \\\n",
       "136509              1                0                  0           0   \n",
       "14753               0                0                  1           0   \n",
       "83874               0                1                  0           0   \n",
       "\n",
       "        Contact_Yes  Country  \n",
       "136509            1   France  \n",
       "14753             0    China  \n",
       "83874             1     Iran  \n",
       "\n",
       "[3 rows x 27 columns]"
      ]
     },
     "execution_count": 4,
     "metadata": {},
     "output_type": "execute_result"
    }
   ],
   "source": [
    "# Test Display\n",
    "data_df.head(3)"
   ]
  },
  {
   "cell_type": "code",
   "execution_count": 5,
   "metadata": {},
   "outputs": [
    {
     "name": "stdout",
     "output_type": "stream",
     "text": [
      "Index(['Fever', 'Tiredness', 'Dry-Cough', 'Difficulty-in-Breathing',\n",
      "       'Sore-Throat', 'None_Sympton', 'Pains', 'Nasal-Congestion',\n",
      "       'Runny-Nose', 'Diarrhea', 'None_Experiencing', 'Age_0-9', 'Age_10-19',\n",
      "       'Age_20-24', 'Age_25-59', 'Age_60+', 'Gender_Female', 'Gender_Male',\n",
      "       'Gender_Transgender', 'Severity_Mild', 'Severity_Moderate',\n",
      "       'Severity_None', 'Severity_Severe', 'Contact_Dont-Know', 'Contact_No',\n",
      "       'Contact_Yes', 'Country'],\n",
      "      dtype='object')\n"
     ]
    }
   ],
   "source": [
    "# Columns of the dataframe\n",
    "print(data_df.columns)"
   ]
  },
  {
   "cell_type": "code",
   "execution_count": 6,
   "metadata": {},
   "outputs": [],
   "source": [
    "# Labels and Corresponding Dictionaries for Mapping\n",
    "\n",
    "# Labels\n",
    "labels = [\n",
    "    'Severity_None',\n",
    "    'Severity_Mild',\n",
    "    'Severity_Moderate',\n",
    "    'Severity_Severe'\n",
    "]\n",
    "\n",
    "# Labels Dict\n",
    "labels_dict = {\n",
    "    'Severity_None':0,\n",
    "    'Severity_Mild':1,\n",
    "    'Severity_Moderate':2,\n",
    "    'Severity_Severe':3\n",
    "}\n",
    "\n",
    "# Reverse dict\n",
    "labels_rev_dict = {\n",
    "    0:'Severity_None',\n",
    "    1:'Severity_Mild',\n",
    "    2:'Severity_Moderate',\n",
    "    3:'Severity_Severe'\n",
    "}"
   ]
  },
  {
   "cell_type": "code",
   "execution_count": 7,
   "metadata": {},
   "outputs": [],
   "source": [
    "# Mapping Dict values with Column Values\n",
    "\n",
    "cols_map = []\n",
    "\n",
    "for label in labels:\n",
    "    cols_map.append(list(map(lambda x : labels_dict[label] if x == 1 else 0,data_df[label])))\n",
    "\n",
    "\n",
    "# Combining df_cols \n",
    "Y = [sum(i) for i in zip(cols_map[0],cols_map[1],cols_map[2],cols_map[3])]\n",
    "Y = [labels_rev_dict[label_no] for label_no in Y]\n",
    "# print(Y[:2])"
   ]
  },
  {
   "cell_type": "code",
   "execution_count": 8,
   "metadata": {},
   "outputs": [],
   "source": [
    "# Checking Conversion\n",
    "#Y[:3]"
   ]
  },
  {
   "cell_type": "code",
   "execution_count": 9,
   "metadata": {},
   "outputs": [],
   "source": [
    "# Removing Label columns and extracting Features\n",
    "X = data_df.drop(labels+[\"Country\",\"Contact_No\"],axis=1)"
   ]
  },
  {
   "cell_type": "code",
   "execution_count": 10,
   "metadata": {},
   "outputs": [],
   "source": [
    "from sklearn.ensemble import RandomForestClassifier"
   ]
  },
  {
   "cell_type": "code",
   "execution_count": 11,
   "metadata": {},
   "outputs": [
    {
     "data": {
      "text/plain": [
       "RandomForestClassifier(max_depth=100, random_state=42)"
      ]
     },
     "execution_count": 11,
     "metadata": {},
     "output_type": "execute_result"
    }
   ],
   "source": [
    "# Random Forest Classifier\n",
    "clf = RandomForestClassifier(max_depth=100, random_state=42)\n",
    "clf.fit(X,Y)"
   ]
  },
  {
   "cell_type": "code",
   "execution_count": 12,
   "metadata": {},
   "outputs": [
    {
     "data": {
      "text/plain": [
       "array(['Severity_Severe', 'Severity_Mild', 'Severity_None'], dtype='<U17')"
      ]
     },
     "execution_count": 12,
     "metadata": {},
     "output_type": "execute_result"
    }
   ],
   "source": [
    "# Checking Predictions \n",
    "clf.predict(X)[:3]"
   ]
  },
  {
   "cell_type": "code",
   "execution_count": 13,
   "metadata": {},
   "outputs": [],
   "source": [
    "import joblib"
   ]
  },
  {
   "cell_type": "code",
   "execution_count": 14,
   "metadata": {},
   "outputs": [
    {
     "data": {
      "text/plain": [
       "['covid_model.pkl']"
      ]
     },
     "execution_count": 14,
     "metadata": {},
     "output_type": "execute_result"
    }
   ],
   "source": [
    "# save the model to disk\n",
    "filename = 'covid_model.pkl'\n",
    "joblib.dump(clf,filename)"
   ]
  },
  {
   "cell_type": "code",
   "execution_count": 15,
   "metadata": {},
   "outputs": [],
   "source": [
    "class Covid_Detector:\n",
    "    \n",
    "    # Directories for Model --> Change if subdirectories created\n",
    "    CURR_DIR  = os.getcwd()\n",
    "    model_dir = \"covid_model.pkl\"\n",
    "    \n",
    "    response_text = {\n",
    "        'Severity_Mild':\"Your are affected by Covid mildly.\",\n",
    "        'Severity_Moderate': \"You are affected by Covid Moderately\",\n",
    "        'Severity_Severe':\"You are affected by Covid Severely\",\n",
    "        'Severity_None':\"You are safe from Covid\"\n",
    "    }\n",
    "    \n",
    "    def __init__(self):\n",
    "        self.clf = joblib.load(os.path.join(self.CURR_DIR,self.model_dir))\n",
    "    \n",
    "    def predict(self,X):\n",
    "        \n",
    "        try:\n",
    "            label = clf.predict([X])[0]\n",
    "            \n",
    "        except:\n",
    "            return {\"response\":\"\",\"status\":False}\n",
    "        \n",
    "        else:\n",
    "            return {\"response\":self.response_text[label],\"status\":True}\n",
    "        \n",
    "    def save_model(self):pass"
   ]
  },
  {
   "cell_type": "code",
   "execution_count": 16,
   "metadata": {},
   "outputs": [],
   "source": [
    "covid_detector = Covid_Detector()"
   ]
  },
  {
   "cell_type": "code",
   "execution_count": 17,
   "metadata": {},
   "outputs": [
    {
     "data": {
      "text/plain": [
       "{'response': 'You are affected by Covid Severely', 'status': True}"
      ]
     },
     "execution_count": 17,
     "metadata": {},
     "output_type": "execute_result"
    }
   ],
   "source": [
    "covid_detector.predict(X.values[0])"
   ]
  }
 ],
 "metadata": {
  "kernelspec": {
   "display_name": "Python 3",
   "language": "python",
   "name": "python3"
  },
  "language_info": {
   "codemirror_mode": {
    "name": "ipython",
    "version": 3
   },
   "file_extension": ".py",
   "mimetype": "text/x-python",
   "name": "python",
   "nbconvert_exporter": "python",
   "pygments_lexer": "ipython3",
   "version": "3.8.5"
  }
 },
 "nbformat": 4,
 "nbformat_minor": 4
}
